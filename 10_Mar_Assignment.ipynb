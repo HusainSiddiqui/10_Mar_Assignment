{
 "cells": [
  {
   "cell_type": "markdown",
   "metadata": {},
   "source": [
    "Q1: What is Estimation Statistics? Explain point estimate and interval estimate."
   ]
  },
  {
   "cell_type": "markdown",
   "metadata": {},
   "source": [
    "it is observed numberical value used to estamate unknown polpulation parameter.\n",
    "There are two types of estimation:\n",
    "    1. Point estimation: single numerical value used to estimate the unknown\n",
    "    2. Interval estimation: range of value used to estimate the unknown population parameter\n",
    "                            it is also called confidence interval"
   ]
  },
  {
   "cell_type": "markdown",
   "metadata": {},
   "source": [
    "Q2. Write a Python function to estimate the population mean using a sample mean and standard\n",
    "deviation."
   ]
  },
  {
   "cell_type": "code",
   "execution_count": 1,
   "metadata": {},
   "outputs": [],
   "source": [
    "def estimate_pop_mean(sample_mean, sample_std_dev, sample_size):\n",
    "    import math\n",
    "    # Calculate the standard error of the mean\n",
    "    \n",
    "    std_err_mean = sample_std_dev / math.sqrt(sample_size)\n",
    "    \n",
    "    # Calculate the margin of error at 95% confidence level\n",
    "    #AUC z-table 1.96\n",
    "    margin_of_error = 1.96 * std_err_mean\n",
    "    \n",
    "    # Calculate the lower and upper bounds of the confidence interval\n",
    "    lower_bound = sample_mean - margin_of_error\n",
    "    upper_bound = sample_mean + margin_of_error\n",
    "    # Return the estimated population mean and its confidence interval\n",
    "    return (sample_mean, lower_bound, upper_bound)\n"
   ]
  },
  {
   "cell_type": "code",
   "execution_count": 2,
   "metadata": {},
   "outputs": [
    {
     "name": "stdout",
     "output_type": "stream",
     "text": [
      "Estimated population mean: 20.50\n",
      "95% Confidence interval: (19.81, 21.19)\n"
     ]
    }
   ],
   "source": [
    "# Example usage\n",
    "sample_mean = 20.5\n",
    "sample_std_dev = 3.5\n",
    "sample_size = 100\n",
    "pop_mean, lower_bound, upper_bound = estimate_pop_mean(sample_mean, sample_std_dev, sample_size)\n",
    "\n",
    "print(\"Estimated population mean: {:.2f}\".format(pop_mean))\n",
    "print(\"95% Confidence interval: ({:.2f}, {:.2f})\".format(lower_bound, upper_bound))\n"
   ]
  },
  {
   "cell_type": "markdown",
   "metadata": {},
   "source": [
    "Q3: What is Hypothesis testing? Why is it used? State the importance of Hypothesis testing."
   ]
  },
  {
   "cell_type": "markdown",
   "metadata": {},
   "source": [
    "Hypothesis testing:\n",
    "\n",
    "Hypothesis testing is a process for evaluating evidence in favor of or against a specific hypothesis about a population parameter.\n",
    "\n",
    "Why is it used?\n",
    "\n",
    "hypothesis testing is a powerful and flexible tool for making decisions and drawing conclusions based on data. By providing a systematic and objective way to evaluate evidence and test hypotheses, it helps to ensure that decisions are based on reliable information and are supported by a sound statistical foundation\n",
    "\n",
    "Here are some of the key reasons why hypothesis testing is important:\n",
    "\n",
    "    Provides a framework for making decisions based on data: Hypothesis testing provides a systematic and objective way to evaluate evidence and make decisions based on data. It helps to ensure that decisions are based on reliable information and are supported by a sound statistical foundation.\n",
    "\n",
    "    Helps to determine the reliability of statistical results: Hypothesis testing can be used to assess the reliability of statistical results by determining the probability of observing a result as extreme or more extreme than the one observed, assuming the null hypothesis is true. This helps to quantify the level of uncertainty in the results and provides a basis for making inferences about the population.\n",
    "\n",
    "    Enables us to test scientific or research hypotheses: Hypothesis testing is commonly used in scientific research to test hypotheses about the relationship between variables, the effects of treatments, or the presence of a phenomenon in a population. It helps to ensure that research findings are based on rigorous statistical analysis and are not simply due to chance or random variation.\n",
    "\n",
    "    Provides a basis for making informed decisions: Hypothesis testing can be used to make informed decisions based on data. For example, a business might use hypothesis testing to decide whether to launch a new product based on market research data, or a public health agency might use hypothesis testing to determine whether a disease outbreak is statistically significant and warrants intervention."
   ]
  },
  {
   "cell_type": "markdown",
   "metadata": {},
   "source": [
    "Q4. Create a hypothesis that states whether the average weight of male college students is greater than\n",
    "the average weight of female college students."
   ]
  },
  {
   "cell_type": "markdown",
   "metadata": {},
   "source": [
    "H0: µm ≤ µf       \n",
    "H1: µm > µf\n",
    "\n",
    "where \n",
    "    µm is the population mean weight of male college students \n",
    "    µf is the population mean weight of female college students\n",
    "\n",
    "To test this hypothesis, \n",
    "a sample of male and female college students would need to be randomly selected, and their weights would need to be measured. \n",
    "The sample mean weights for each group could then be calculated and compared using a statistical test, such as a t-test or z-test, to determine whether there is sufficient evidence to reject the null hypothesis and support the alternative hypothesis that the average weight of male college students is greater than the average weight of female college students."
   ]
  },
  {
   "cell_type": "markdown",
   "metadata": {},
   "source": [
    "Q5. Write a Python script to conduct a hypothesis test on the difference between two population means,\n",
    "given a sample from each population."
   ]
  },
  {
   "cell_type": "code",
   "execution_count": 26,
   "metadata": {},
   "outputs": [
    {
     "name": "stdout",
     "output_type": "stream",
     "text": [
      "Reject the null hypothesis that the means are equal.\n"
     ]
    }
   ],
   "source": [
    "import numpy as np\n",
    "from scipy.stats import ttest_ind\n",
    "\n",
    "# Define sample data\n",
    "sample_1 = [1, 2, 3, 4, 5]\n",
    "sample_2 = [6, 7, 8, 9, 10]\n",
    "\n",
    "# Calculate the means of the two samples\n",
    "mean_1 = np.mean(sample_1)\n",
    "mean_2 = np.mean(sample_2)\n",
    "\n",
    "# Calculate the standard deviations of the two samples\n",
    "std_1 = np.std(sample_1)\n",
    "std_2 = np.std(sample_2)\n",
    "\n",
    "# Calculate the degrees of freedom\n",
    "df = len(sample_1) + len(sample_2) - 2\n",
    "\n",
    "# Calculate the pooled standard deviation of same group size\n",
    "pooled_std=(std_1+std_2)/2\n",
    "\n",
    "\n",
    "# Calculate the t-statistic\n",
    "t_stat = (mean_1 - mean_2) / (pooled_std * np.sqrt(1 / len(sample_1) + 1 / len(sample_2)))\n",
    "\n",
    "# Calculate the p-value\n",
    "p_value = ttest_ind(sample_1, sample_2)[1]\n",
    "\n",
    "# Define the significance level\n",
    "alpha = 0.05\n",
    "\n",
    "# Conduct the hypothesis test\n",
    "if p_value < alpha:\n",
    "    print(\"Reject the null hypothesis that the means are equal.\")\n",
    "else:\n",
    "    print(\"Fail to reject the null hypothesis that the means are equal.\")\n"
   ]
  },
  {
   "cell_type": "markdown",
   "metadata": {},
   "source": [
    "Q6: What is a null and alternative hypothesis? Give some examples."
   ]
  },
  {
   "cell_type": "markdown",
   "metadata": {},
   "source": [
    "A null hypothesis is a statement that assumes there is no significant relationship between two variables or that there is no significant difference between two groups. \n",
    "The alternative hypothesis, is a statement that contradicts the null hypothesis and suggests that there is a significant relationship or difference between the variables or groups being compared.\n",
    "\n",
    "    A company is testing a new product to see if it is more effective than the current product.\n",
    "\n",
    "Null hypothesis: The new product is no more effective than the current product.\n",
    "\n",
    "Alternative hypothesis: The new product is more effective than the current product."
   ]
  },
  {
   "cell_type": "markdown",
   "metadata": {},
   "source": [
    "Q7: Write down the steps involved in hypothesis testing."
   ]
  },
  {
   "cell_type": "markdown",
   "metadata": {},
   "source": [
    "Hypothesis testing is a process for evaluating evidence in favor of or against a specific hypothesis about a population parameter. Here are the general steps involved in hypothesis testing:\n",
    "\n",
    "1. Formulate the null and alternative hypotheses: Start by stating the null hypothesis (H0) and the alternative hypothesis (Ha) based on the research question being investigated. \n",
    "\n",
    "\n",
    "2. Define the level of significance: Choose a level of significance (alpha) that represents the maximum probability of rejecting the null hypothesis when it is true. Typically, alpha is set to 0.05, meaning that there is a 5% chance of rejecting the null hypothesis when it is actually true.\n",
    "\n",
    "\n",
    "3. Select a test statistic: Choose an appropriate test statistic based on the type of data being analyzed and the nature of the hypothesis being tested. \n",
    "\n",
    "\n",
    "4. Calculate the test statistic: Compute the test statistic using the sample data and the chosen test statistic formula.\n",
    "\n",
    "\n",
    "5. Determine the p-value: Calculate the p-value\n",
    "\n",
    "\n",
    "6. Make a decision: Compare the p-value to the level of significance, and make a decision about whether to reject or fail to reject the null hypothesis.\n",
    "If the p-value < level of significance, reject the null hypothesis \n",
    "If the p-value >= level of significance, fail to reject the null hypothesis.\n",
    "\n",
    "\n",
    "7. Interpret the results: Once a decision has been made, interpret the results in the context of the research question and the original hypotheses. If the null hypothesis is rejected, conclude that there is evidence to support the alternative hypothesis. If the null hypothesis is not rejected, conclude that there is not enough evidence to support the alternative hypothesis."
   ]
  },
  {
   "cell_type": "markdown",
   "metadata": {},
   "source": [
    "Q8. Define p-value and explain its significance in hypothesis testing."
   ]
  },
  {
   "cell_type": "markdown",
   "metadata": {},
   "source": [
    "p-value is used to determine the strength of the evidence against the null hypothesis and can help to make a decision about whether to reject or fail to reject the null hypothesis.\n",
    "\n",
    "Here are some key points about the significance of p-value in hypothesis testing:\n",
    "\n",
    "    A small p-value (typically, less than the chosen level of significance, alpha) indicates that there is strong evidence against the null hypothesis. In this case, the null hypothesis is rejected in favor of the alternative hypothesis.\n",
    "\n",
    "    A large p-value (typically, greater than or equal to alpha) indicates that there is not enough evidence to reject the null hypothesis. In this case, the null hypothesis is not rejected, and the conclusion is that there is no significant difference or relationship between the variables or groups being compared.\n",
    "\n",
    "    The p-value is affected by the sample size, the level of significance, and the magnitude of the difference or relationship being tested. A larger sample size or a smaller level of significance can lead to smaller p-values, indicating stronger evidence against the null hypothesis.\n",
    "\n",
    "    The p-value should not be interpreted as the probability of the alternative hypothesis being true, or as the probability of making a correct decision in hypothesis testing. Rather, it is a measure of the strength of the evidence against the null hypothesis based on the observed sample data.\n"
   ]
  },
  {
   "cell_type": "markdown",
   "metadata": {},
   "source": [
    "Q9. Generate a Student's t-distribution plot using Python's matplotlib library, with the degrees of freedom\n",
    "parameter set to 10."
   ]
  },
  {
   "cell_type": "code",
   "execution_count": 13,
   "metadata": {},
   "outputs": [
    {
     "data": {
      "image/png": "[encoded data removed]",
      "text/plain": [
       "<Figure size 432x288 with 1 Axes>"
      ]
     },
     "metadata": {
      "needs_background": "light"
     },
     "output_type": "display_data"
    }
   ],
   "source": [
    "import numpy as np\n",
    "import matplotlib.pyplot as plt\n",
    "from scipy.stats import t\n",
    "\n",
    "# Define the degrees of freedom\n",
    "df = 10\n",
    "\n",
    "# Create a range of values for the x-axis\n",
    "x = np.linspace(-4, 4, 500)\n",
    "\n",
    "# Calculate the y-values for the t-distribution\n",
    "y = t.pdf(x, df)\n",
    "\n",
    "# Create the plot\n",
    "plt.plot(x, y, label=\"t-distribution with df=10\")\n",
    "\n",
    "# Add axis labels and a legend\n",
    "plt.xlabel(\"t-value\")\n",
    "plt.ylabel(\"Probability density\")\n",
    "plt.legend()\n",
    "plt.show()\n"
   ]
  },
  {
   "cell_type": "markdown",
   "metadata": {},
   "source": [
    "Q10. Write a Python program to calculate the two-sample t-test for independent samples, given two\n",
    "random samples of equal size and a null hypothesis that the population means are equal."
   ]
  },
  {
   "cell_type": "code",
   "execution_count": 14,
   "metadata": {},
   "outputs": [
    {
     "name": "stdout",
     "output_type": "stream",
     "text": [
      "Null Hypothesis: The population means are equal\n",
      "Sample 1 mean: 3.0\n",
      "Sample 2 mean: 8.0\n",
      "t-statistic: -5.0\n",
      "p-value: 0.001052825793366539\n"
     ]
    }
   ],
   "source": [
    "import numpy as np\n",
    "from scipy.stats import ttest_ind\n",
    "\n",
    "# Define the two samples\n",
    "sample1 = np.array([1, 2, 3, 4, 5])\n",
    "sample2 = np.array([6, 7, 8, 9, 10])\n",
    "\n",
    "# Define the null hypothesis\n",
    "null_hypothesis = \"The population means are equal\"\n",
    "\n",
    "# Calculate the t-statistic and p-value using the t-test function\n",
    "t_statistic, p_value = ttest_ind(sample1, sample2)\n",
    "\n",
    "# Print the results\n",
    "print(\"Null Hypothesis: \" + null_hypothesis)\n",
    "print(\"Sample 1 mean: \" + str(np.mean(sample1)))\n",
    "print(\"Sample 2 mean: \" + str(np.mean(sample2)))\n",
    "print(\"t-statistic: \" + str(t_statistic))\n",
    "print(\"p-value: \" + str(p_value))\n"
   ]
  },
  {
   "cell_type": "markdown",
   "metadata": {},
   "source": [
    "Q11: What is Student’s t distribution? When to use the t-Distribution."
   ]
  },
  {
   "cell_type": "code",
   "execution_count": null,
   "metadata": {},
   "outputs": [],
   "source": []
  },
  {
   "cell_type": "markdown",
   "metadata": {},
   "source": [
    "Q12: What is t-statistic? State the formula for t-statistic."
   ]
  },
  {
   "cell_type": "markdown",
   "metadata": {},
   "source": [
    "Student's t-distribution, also known as the t-distribution, is a probability distribution that arises when we are interested in estimating the population mean of a normally distributed variable, but we do not know the population standard deviation.\n",
    "\n",
    "we use the t-distribution when we are interested in estimating the population mean of a normally distributed variable, \n",
    "\n",
    "we have a small sample size, and the population standard deviation is unknown. "
   ]
  },
  {
   "cell_type": "markdown",
   "metadata": {},
   "source": [
    "Q13. A coffee shop owner wants to estimate the average daily revenue for their shop. They take a random\n",
    "sample of 50 days and find the sample mean revenue to be $500 with a standard deviation of 50.\n",
    "Estimate the population mean revenue with a 95% confidence interval."
   ]
  },
  {
   "cell_type": "code",
   "execution_count": 17,
   "metadata": {},
   "outputs": [
    {
     "name": "stdout",
     "output_type": "stream",
     "text": [
      "Sample mean: $500.00\n",
      "Sample standard deviation: $50.00\n",
      "Sample size: 50\n",
      "t-critical value: 2.0096\n",
      "Margin of error: $14.21\n",
      "95% Confidence interval: ($485.79, $514.21)\n"
     ]
    }
   ],
   "source": [
    "import numpy as np\n",
    "from scipy.stats import t\n",
    "\n",
    "# Define the sample statistics\n",
    "sample_mean = 500\n",
    "sample_std = 50\n",
    "n = 50\n",
    "\n",
    "# Calculate the t-critical value\n",
    "alpha = 0.05\n",
    "df = n - 1\n",
    "p_value = t.ppf(1 - alpha/2, df)\n",
    "\n",
    "# Calculate the margin of error\n",
    "margin_of_error = p_value * sample_std / np.sqrt(n)\n",
    "\n",
    "# Calculate the confidence interval\n",
    "confidence_interval = (sample_mean - margin_of_error, sample_mean + margin_of_error)\n",
    "\n",
    "# Print the results\n",
    "print(f\"Sample mean: ${sample_mean:.2f}\")\n",
    "print(f\"Sample standard deviation: ${sample_std:.2f}\")\n",
    "print(f\"Sample size: {n}\")\n",
    "print(f\"t-critical value: {p_value:.4f}\")\n",
    "print(f\"Margin of error: ${margin_of_error:.2f}\")\n",
    "print(f\"95% Confidence interval: (${confidence_interval[0]:.2f}, ${confidence_interval[1]:.2f})\")\n"
   ]
  },
  {
   "cell_type": "markdown",
   "metadata": {},
   "source": [
    "Q14. A researcher hypothesizes that a new drug will decrease blood pressure by 10 mmHg. They conduct a\n",
    "clinical trial with 100 patients and find that the sample mean decrease in blood pressure is 8 mmHg with a\n",
    "standard deviation of 3 mmHg. Test the hypothesis with a significance level of 0.05."
   ]
  },
  {
   "cell_type": "code",
   "execution_count": 18,
   "metadata": {},
   "outputs": [
    {
     "name": "stdout",
     "output_type": "stream",
     "text": [
      "Reject the null hypothesis\n"
     ]
    }
   ],
   "source": [
    "import scipy.stats as stats\n",
    "import math\n",
    "\n",
    "# Set the significance level\n",
    "alpha = 0.05\n",
    "\n",
    "# Given data\n",
    "sample_mean = 8\n",
    "hypothesized_mean = 10\n",
    "sample_std = 3\n",
    "n = 100\n",
    "\n",
    "# Calculate the t-statistic\n",
    "t_statistic = (sample_mean - hypothesized_mean) / (sample_std / math.sqrt(n))\n",
    "\n",
    "# Calculate the degrees of freedom\n",
    "df = n - 1\n",
    "\n",
    "# Calculate the t-critical value (percent point function)\n",
    "t_critical = stats.t.ppf(alpha, df)\n",
    "\n",
    "# Compare the absolute value of the t-statistic to the t-critical value\n",
    "if abs(t_statistic) > t_critical:\n",
    "    print(\"Reject the null hypothesis\")\n",
    "else:\n",
    "    print(\"Fail to reject the null hypothesis\")\n"
   ]
  },
  {
   "cell_type": "markdown",
   "metadata": {},
   "source": [
    "Q15. An electronics company produces a certain type of product with a mean weight of 5 pounds and a\n",
    "standard deviation of 0.5 pounds. A random sample of 25 products is taken, and the sample mean weight\n",
    "is found to be 4.8 pounds. Test the hypothesis that the true mean weight of the products is less than 5\n",
    "pounds with a significance level of 0.01.\n",
    "\n"
   ]
  },
  {
   "cell_type": "code",
   "execution_count": 21,
   "metadata": {},
   "outputs": [
    {
     "name": "stdout",
     "output_type": "stream",
     "text": [
      "Reject the null hypothesis\n"
     ]
    }
   ],
   "source": [
    "import scipy.stats as stats\n",
    "import math\n",
    "\n",
    "# Set the significance level\n",
    "alpha = 0.01\n",
    "\n",
    "# Given data\n",
    "sample_mean = 4.8\n",
    "hypothesized_mean = 5\n",
    "std = 0.5\n",
    "n = 25\n",
    "\n",
    "# Calculate the t-statistic\n",
    "t_statistic = (sample_mean - hypothesized_mean) / (sample_std / math.sqrt(n))\n",
    "\n",
    "# Calculate the degrees of freedom\n",
    "df = n - 1\n",
    "\n",
    "# Calculate the t-critical value (percent point function)\n",
    "t_critical = stats.t.ppf(alpha, df)\n",
    "\n",
    "# Compare the absolute value of the t-statistic to the t-critical value\n",
    "if abs(t_statistic) > t_critical:\n",
    "    print(\"Reject the null hypothesis\")\n",
    "else:\n",
    "    print(\"Fail to reject the null hypothesis\")\n"
   ]
  },
  {
   "cell_type": "markdown",
   "metadata": {},
   "source": [
    "Q16. Two groups of students are given different study materials to prepare for a test. The first group (n1 =\n",
    "30) has a mean score of 80 with a standard deviation of 10, and the second group (n2 = 40) has a mean\n",
    "score of 75 with a standard deviation of 8. Test the hypothesis that the population means for the two\n",
    "groups are equal with a significance level of 0.01."
   ]
  },
  {
   "cell_type": "code",
   "execution_count": 46,
   "metadata": {},
   "outputs": [
    {
     "name": "stdout",
     "output_type": "stream",
     "text": [
      "Reject the null hypothesis that the means are equal.\n"
     ]
    }
   ],
   "source": [
    "n1=30\n",
    "n2=40\n",
    "\n",
    "m1=80\n",
    "m2=75\n",
    "\n",
    "std1=10\n",
    "std2=8\n",
    "\n",
    "# Define the significance level\n",
    "alpha=0.01\n",
    "\n",
    "df=n1+n2-2\n",
    "\n",
    "pool_std=((n1-1)*10 + (n2-1)*std2)/(n1*n2-2)\n",
    "\n",
    "critical_t=(m1-m2)/pool_std*np.sqrt( 1/n1 + 1/n2 )\n",
    "\n",
    "# Calculate the p-value\n",
    "p_value = ttest_ind(sample_1, sample_2)[1]\n",
    "\n",
    "# Conduct the hypothesis test\n",
    "if p_value < alpha:\n",
    "    print(\"Reject the null hypothesis that the means are equal.\")\n",
    "else:\n",
    "    print(\"Fail to reject the null hypothesis that the means are equal.\")"
   ]
  },
  {
   "cell_type": "markdown",
   "metadata": {},
   "source": [
    "Q17. A marketing company wants to estimate the average number of ads watched by viewers during a TV\n",
    "program. They take a random sample of 50 viewers and find that the sample mean is 4 with a standard\n",
    "deviation of 1.5. Estimate the population mean with a 99% confidence interval."
   ]
  },
  {
   "cell_type": "code",
   "execution_count": 75,
   "metadata": {},
   "outputs": [],
   "source": [
    "n=50\n",
    "mean=4\n",
    "std=1.5\n",
    "alpha=99\n",
    "\n",
    "# Calculate the margin of error at 99% confidence level\n",
    "#AUC z-table 2.576\n",
    "z = 2.576 \n",
    "lower_bound=mean-z*(std/np.sqrt(n))\n",
    "\n",
    "upper_bound=mean+z*(std/np.sqrt(n))"
   ]
  },
  {
   "cell_type": "code",
   "execution_count": 83,
   "metadata": {},
   "outputs": [
    {
     "name": "stdout",
     "output_type": "stream",
     "text": [
      "CI({lower_bound,upper_bound})\n"
     ]
    }
   ],
   "source": [
    "print('CI({lower_bound,upper_bound})')"
   ]
  },
  {
   "cell_type": "code",
   "execution_count": 92,
   "metadata": {},
   "outputs": [
    {
     "name": "stdout",
     "output_type": "stream",
     "text": [
      "CI(3.43, 4.57)\n"
     ]
    }
   ],
   "source": [
    "import scipy.stats as stats\n",
    "\n",
    "sample_mean = 4\n",
    "sample_std = 1.5\n",
    "n = 50\n",
    "alpha = 0.01\n",
    "\n",
    "t_score = stats.t.ppf(1 - alpha/2, df=n-1)\n",
    "std_error = sample_std / math.sqrt(n)\n",
    "\n",
    "lower_bound = sample_mean - t_score * std_error\n",
    "upper_bound = sample_mean + t_score * std_error\n",
    "\n",
    "print(f'CI({lower_bound:.2f}, {upper_bound:.2f})')\n"
   ]
  }
 ],
 "metadata": {
  "kernelspec": {
   "display_name": "Python 3",
   "language": "python",
   "name": "python3"
  },
  "language_info": {
   "codemirror_mode": {
    "name": "ipython",
    "version": 3
   },
   "file_extension": ".py",
   "mimetype": "text/x-python",
   "name": "python",
   "nbconvert_exporter": "python",
   "pygments_lexer": "ipython3",
   "version": "3.6.5"
  }
 },
 "nbformat": 4,
 "nbformat_minor": 2
}
